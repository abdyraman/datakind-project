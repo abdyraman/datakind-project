{
 "cells": [
  {
   "cell_type": "code",
   "execution_count": 2,
   "id": "460d00b7",
   "metadata": {},
   "outputs": [],
   "source": [
    "#Import dependencies\n",
    "import numpy as np # linear algebra\n",
    "import pandas as pd # data processing, CSV file I/O (e.g. pd.read_csv)\n",
    "import matplotlib.pyplot as plt # for data visualization purposes\n",
    "import seaborn as sns # for statistical data visualization\n",
    "%matplotlib inline\n",
    "\n",
    "# Input data files\n",
    "df=pd.read_csv('micro_world_139countries.csv', encoding='ISO-8859-1')\n",
    "     "
   ]
  },
  {
   "cell_type": "code",
   "execution_count": null,
   "id": "990ceeba",
   "metadata": {},
   "outputs": [],
   "source": [
    "#The data comsists of 143k rows and 128 columns\n",
    "df.shape"
   ]
  },
  {
   "cell_type": "markdown",
   "id": "7ac8414d",
   "metadata": {},
   "source": [
    "Data starts with Afganistan and goes till Zimbabwe"
   ]
  },
  {
   "cell_type": "code",
   "execution_count": 6,
   "id": "3ac06dd5",
   "metadata": {},
   "outputs": [
    {
     "data": {
      "text/html": [
       "<div>\n",
       "<style scoped>\n",
       "    .dataframe tbody tr th:only-of-type {\n",
       "        vertical-align: middle;\n",
       "    }\n",
       "\n",
       "    .dataframe tbody tr th {\n",
       "        vertical-align: top;\n",
       "    }\n",
       "\n",
       "    .dataframe thead th {\n",
       "        text-align: right;\n",
       "    }\n",
       "</style>\n",
       "<table border=\"1\" class=\"dataframe\">\n",
       "  <thead>\n",
       "    <tr style=\"text-align: right;\">\n",
       "      <th></th>\n",
       "      <th>economy</th>\n",
       "      <th>economycode</th>\n",
       "      <th>regionwb</th>\n",
       "      <th>pop_adult</th>\n",
       "      <th>wpid_random</th>\n",
       "      <th>wgt</th>\n",
       "      <th>female</th>\n",
       "      <th>age</th>\n",
       "      <th>educ</th>\n",
       "      <th>inc_q</th>\n",
       "      <th>...</th>\n",
       "      <th>receive_transfers</th>\n",
       "      <th>receive_pension</th>\n",
       "      <th>receive_agriculture</th>\n",
       "      <th>pay_utilities</th>\n",
       "      <th>remittances</th>\n",
       "      <th>mobileowner</th>\n",
       "      <th>internetaccess</th>\n",
       "      <th>anydigpayment</th>\n",
       "      <th>merchantpay_dig</th>\n",
       "      <th>year</th>\n",
       "    </tr>\n",
       "  </thead>\n",
       "  <tbody>\n",
       "    <tr>\n",
       "      <th>0</th>\n",
       "      <td>Afghanistan</td>\n",
       "      <td>AFG</td>\n",
       "      <td>South Asia</td>\n",
       "      <td>22647496.0</td>\n",
       "      <td>144274031</td>\n",
       "      <td>0.716416</td>\n",
       "      <td>2</td>\n",
       "      <td>43.0</td>\n",
       "      <td>2</td>\n",
       "      <td>4</td>\n",
       "      <td>...</td>\n",
       "      <td>4</td>\n",
       "      <td>4</td>\n",
       "      <td>4.0</td>\n",
       "      <td>1</td>\n",
       "      <td>5.0</td>\n",
       "      <td>1</td>\n",
       "      <td>2</td>\n",
       "      <td>1</td>\n",
       "      <td>0.0</td>\n",
       "      <td>2021</td>\n",
       "    </tr>\n",
       "    <tr>\n",
       "      <th>1</th>\n",
       "      <td>Afghanistan</td>\n",
       "      <td>AFG</td>\n",
       "      <td>South Asia</td>\n",
       "      <td>22647496.0</td>\n",
       "      <td>180724554</td>\n",
       "      <td>0.497408</td>\n",
       "      <td>2</td>\n",
       "      <td>55.0</td>\n",
       "      <td>1</td>\n",
       "      <td>3</td>\n",
       "      <td>...</td>\n",
       "      <td>4</td>\n",
       "      <td>4</td>\n",
       "      <td>2.0</td>\n",
       "      <td>4</td>\n",
       "      <td>5.0</td>\n",
       "      <td>1</td>\n",
       "      <td>2</td>\n",
       "      <td>0</td>\n",
       "      <td>0.0</td>\n",
       "      <td>2021</td>\n",
       "    </tr>\n",
       "    <tr>\n",
       "      <th>2</th>\n",
       "      <td>Afghanistan</td>\n",
       "      <td>AFG</td>\n",
       "      <td>South Asia</td>\n",
       "      <td>22647496.0</td>\n",
       "      <td>130686682</td>\n",
       "      <td>0.650431</td>\n",
       "      <td>1</td>\n",
       "      <td>15.0</td>\n",
       "      <td>1</td>\n",
       "      <td>2</td>\n",
       "      <td>...</td>\n",
       "      <td>4</td>\n",
       "      <td>4</td>\n",
       "      <td>4.0</td>\n",
       "      <td>4</td>\n",
       "      <td>3.0</td>\n",
       "      <td>2</td>\n",
       "      <td>2</td>\n",
       "      <td>0</td>\n",
       "      <td>0.0</td>\n",
       "      <td>2021</td>\n",
       "    </tr>\n",
       "    <tr>\n",
       "      <th>3</th>\n",
       "      <td>Afghanistan</td>\n",
       "      <td>AFG</td>\n",
       "      <td>South Asia</td>\n",
       "      <td>22647496.0</td>\n",
       "      <td>142646649</td>\n",
       "      <td>0.991862</td>\n",
       "      <td>2</td>\n",
       "      <td>23.0</td>\n",
       "      <td>1</td>\n",
       "      <td>4</td>\n",
       "      <td>...</td>\n",
       "      <td>4</td>\n",
       "      <td>4</td>\n",
       "      <td>2.0</td>\n",
       "      <td>4</td>\n",
       "      <td>5.0</td>\n",
       "      <td>1</td>\n",
       "      <td>2</td>\n",
       "      <td>0</td>\n",
       "      <td>0.0</td>\n",
       "      <td>2021</td>\n",
       "    </tr>\n",
       "    <tr>\n",
       "      <th>4</th>\n",
       "      <td>Afghanistan</td>\n",
       "      <td>AFG</td>\n",
       "      <td>South Asia</td>\n",
       "      <td>22647496.0</td>\n",
       "      <td>199055310</td>\n",
       "      <td>0.554940</td>\n",
       "      <td>1</td>\n",
       "      <td>46.0</td>\n",
       "      <td>1</td>\n",
       "      <td>1</td>\n",
       "      <td>...</td>\n",
       "      <td>4</td>\n",
       "      <td>4</td>\n",
       "      <td>4.0</td>\n",
       "      <td>4</td>\n",
       "      <td>5.0</td>\n",
       "      <td>2</td>\n",
       "      <td>2</td>\n",
       "      <td>0</td>\n",
       "      <td>0.0</td>\n",
       "      <td>2021</td>\n",
       "    </tr>\n",
       "  </tbody>\n",
       "</table>\n",
       "<p>5 rows × 128 columns</p>\n",
       "</div>"
      ],
      "text/plain": [
       "       economy economycode    regionwb   pop_adult  wpid_random       wgt  \\\n",
       "0  Afghanistan         AFG  South Asia  22647496.0    144274031  0.716416   \n",
       "1  Afghanistan         AFG  South Asia  22647496.0    180724554  0.497408   \n",
       "2  Afghanistan         AFG  South Asia  22647496.0    130686682  0.650431   \n",
       "3  Afghanistan         AFG  South Asia  22647496.0    142646649  0.991862   \n",
       "4  Afghanistan         AFG  South Asia  22647496.0    199055310  0.554940   \n",
       "\n",
       "   female   age  educ  inc_q  ...  receive_transfers  receive_pension  \\\n",
       "0       2  43.0     2      4  ...                  4                4   \n",
       "1       2  55.0     1      3  ...                  4                4   \n",
       "2       1  15.0     1      2  ...                  4                4   \n",
       "3       2  23.0     1      4  ...                  4                4   \n",
       "4       1  46.0     1      1  ...                  4                4   \n",
       "\n",
       "   receive_agriculture  pay_utilities  remittances  mobileowner  \\\n",
       "0                  4.0              1          5.0            1   \n",
       "1                  2.0              4          5.0            1   \n",
       "2                  4.0              4          3.0            2   \n",
       "3                  2.0              4          5.0            1   \n",
       "4                  4.0              4          5.0            2   \n",
       "\n",
       "   internetaccess  anydigpayment  merchantpay_dig  year  \n",
       "0               2              1              0.0  2021  \n",
       "1               2              0              0.0  2021  \n",
       "2               2              0              0.0  2021  \n",
       "3               2              0              0.0  2021  \n",
       "4               2              0              0.0  2021  \n",
       "\n",
       "[5 rows x 128 columns]"
      ]
     },
     "execution_count": 6,
     "metadata": {},
     "output_type": "execute_result"
    }
   ],
   "source": [
    "# preview the dataset\n",
    "df.head()"
   ]
  },
  {
   "cell_type": "code",
   "execution_count": 7,
   "id": "60f4df72",
   "metadata": {},
   "outputs": [
    {
     "data": {
      "text/html": [
       "<div>\n",
       "<style scoped>\n",
       "    .dataframe tbody tr th:only-of-type {\n",
       "        vertical-align: middle;\n",
       "    }\n",
       "\n",
       "    .dataframe tbody tr th {\n",
       "        vertical-align: top;\n",
       "    }\n",
       "\n",
       "    .dataframe thead th {\n",
       "        text-align: right;\n",
       "    }\n",
       "</style>\n",
       "<table border=\"1\" class=\"dataframe\">\n",
       "  <thead>\n",
       "    <tr style=\"text-align: right;\">\n",
       "      <th></th>\n",
       "      <th>economy</th>\n",
       "      <th>economycode</th>\n",
       "      <th>regionwb</th>\n",
       "      <th>pop_adult</th>\n",
       "      <th>wpid_random</th>\n",
       "      <th>wgt</th>\n",
       "      <th>female</th>\n",
       "      <th>age</th>\n",
       "      <th>educ</th>\n",
       "      <th>inc_q</th>\n",
       "      <th>...</th>\n",
       "      <th>receive_transfers</th>\n",
       "      <th>receive_pension</th>\n",
       "      <th>receive_agriculture</th>\n",
       "      <th>pay_utilities</th>\n",
       "      <th>remittances</th>\n",
       "      <th>mobileowner</th>\n",
       "      <th>internetaccess</th>\n",
       "      <th>anydigpayment</th>\n",
       "      <th>merchantpay_dig</th>\n",
       "      <th>year</th>\n",
       "    </tr>\n",
       "  </thead>\n",
       "  <tbody>\n",
       "    <tr>\n",
       "      <th>143882</th>\n",
       "      <td>Zimbabwe</td>\n",
       "      <td>ZWE</td>\n",
       "      <td>Sub-Saharan Africa (excluding high income)</td>\n",
       "      <td>8633711.0</td>\n",
       "      <td>142158626</td>\n",
       "      <td>1.327724</td>\n",
       "      <td>2</td>\n",
       "      <td>22.0</td>\n",
       "      <td>2</td>\n",
       "      <td>5</td>\n",
       "      <td>...</td>\n",
       "      <td>4</td>\n",
       "      <td>4</td>\n",
       "      <td>4.0</td>\n",
       "      <td>4</td>\n",
       "      <td>5.0</td>\n",
       "      <td>1</td>\n",
       "      <td>1</td>\n",
       "      <td>0</td>\n",
       "      <td>0.0</td>\n",
       "      <td>2021</td>\n",
       "    </tr>\n",
       "    <tr>\n",
       "      <th>143883</th>\n",
       "      <td>Zimbabwe</td>\n",
       "      <td>ZWE</td>\n",
       "      <td>Sub-Saharan Africa (excluding high income)</td>\n",
       "      <td>8633711.0</td>\n",
       "      <td>166233385</td>\n",
       "      <td>0.271210</td>\n",
       "      <td>1</td>\n",
       "      <td>52.0</td>\n",
       "      <td>2</td>\n",
       "      <td>5</td>\n",
       "      <td>...</td>\n",
       "      <td>1</td>\n",
       "      <td>4</td>\n",
       "      <td>4.0</td>\n",
       "      <td>4</td>\n",
       "      <td>5.0</td>\n",
       "      <td>1</td>\n",
       "      <td>2</td>\n",
       "      <td>1</td>\n",
       "      <td>1.0</td>\n",
       "      <td>2021</td>\n",
       "    </tr>\n",
       "    <tr>\n",
       "      <th>143884</th>\n",
       "      <td>Zimbabwe</td>\n",
       "      <td>ZWE</td>\n",
       "      <td>Sub-Saharan Africa (excluding high income)</td>\n",
       "      <td>8633711.0</td>\n",
       "      <td>127205071</td>\n",
       "      <td>0.337621</td>\n",
       "      <td>1</td>\n",
       "      <td>47.0</td>\n",
       "      <td>1</td>\n",
       "      <td>1</td>\n",
       "      <td>...</td>\n",
       "      <td>4</td>\n",
       "      <td>4</td>\n",
       "      <td>4.0</td>\n",
       "      <td>4</td>\n",
       "      <td>5.0</td>\n",
       "      <td>1</td>\n",
       "      <td>2</td>\n",
       "      <td>0</td>\n",
       "      <td>0.0</td>\n",
       "      <td>2021</td>\n",
       "    </tr>\n",
       "    <tr>\n",
       "      <th>143885</th>\n",
       "      <td>Zimbabwe</td>\n",
       "      <td>ZWE</td>\n",
       "      <td>Sub-Saharan Africa (excluding high income)</td>\n",
       "      <td>8633711.0</td>\n",
       "      <td>201016006</td>\n",
       "      <td>2.153500</td>\n",
       "      <td>2</td>\n",
       "      <td>18.0</td>\n",
       "      <td>1</td>\n",
       "      <td>3</td>\n",
       "      <td>...</td>\n",
       "      <td>4</td>\n",
       "      <td>4</td>\n",
       "      <td>4.0</td>\n",
       "      <td>4</td>\n",
       "      <td>4.0</td>\n",
       "      <td>2</td>\n",
       "      <td>2</td>\n",
       "      <td>1</td>\n",
       "      <td>1.0</td>\n",
       "      <td>2021</td>\n",
       "    </tr>\n",
       "    <tr>\n",
       "      <th>143886</th>\n",
       "      <td>Zimbabwe</td>\n",
       "      <td>ZWE</td>\n",
       "      <td>Sub-Saharan Africa (excluding high income)</td>\n",
       "      <td>8633711.0</td>\n",
       "      <td>204293669</td>\n",
       "      <td>0.271210</td>\n",
       "      <td>1</td>\n",
       "      <td>74.0</td>\n",
       "      <td>3</td>\n",
       "      <td>2</td>\n",
       "      <td>...</td>\n",
       "      <td>4</td>\n",
       "      <td>1</td>\n",
       "      <td>4.0</td>\n",
       "      <td>4</td>\n",
       "      <td>1.0</td>\n",
       "      <td>1</td>\n",
       "      <td>2</td>\n",
       "      <td>1</td>\n",
       "      <td>1.0</td>\n",
       "      <td>2021</td>\n",
       "    </tr>\n",
       "  </tbody>\n",
       "</table>\n",
       "<p>5 rows × 128 columns</p>\n",
       "</div>"
      ],
      "text/plain": [
       "         economy economycode                                    regionwb  \\\n",
       "143882  Zimbabwe         ZWE  Sub-Saharan Africa (excluding high income)   \n",
       "143883  Zimbabwe         ZWE  Sub-Saharan Africa (excluding high income)   \n",
       "143884  Zimbabwe         ZWE  Sub-Saharan Africa (excluding high income)   \n",
       "143885  Zimbabwe         ZWE  Sub-Saharan Africa (excluding high income)   \n",
       "143886  Zimbabwe         ZWE  Sub-Saharan Africa (excluding high income)   \n",
       "\n",
       "        pop_adult  wpid_random       wgt  female   age  educ  inc_q  ...  \\\n",
       "143882  8633711.0    142158626  1.327724       2  22.0     2      5  ...   \n",
       "143883  8633711.0    166233385  0.271210       1  52.0     2      5  ...   \n",
       "143884  8633711.0    127205071  0.337621       1  47.0     1      1  ...   \n",
       "143885  8633711.0    201016006  2.153500       2  18.0     1      3  ...   \n",
       "143886  8633711.0    204293669  0.271210       1  74.0     3      2  ...   \n",
       "\n",
       "        receive_transfers  receive_pension  receive_agriculture  \\\n",
       "143882                  4                4                  4.0   \n",
       "143883                  1                4                  4.0   \n",
       "143884                  4                4                  4.0   \n",
       "143885                  4                4                  4.0   \n",
       "143886                  4                1                  4.0   \n",
       "\n",
       "        pay_utilities  remittances  mobileowner  internetaccess  \\\n",
       "143882              4          5.0            1               1   \n",
       "143883              4          5.0            1               2   \n",
       "143884              4          5.0            1               2   \n",
       "143885              4          4.0            2               2   \n",
       "143886              4          1.0            1               2   \n",
       "\n",
       "        anydigpayment  merchantpay_dig  year  \n",
       "143882              0              0.0  2021  \n",
       "143883              1              1.0  2021  \n",
       "143884              0              0.0  2021  \n",
       "143885              1              1.0  2021  \n",
       "143886              1              1.0  2021  \n",
       "\n",
       "[5 rows x 128 columns]"
      ]
     },
     "execution_count": 7,
     "metadata": {},
     "output_type": "execute_result"
    }
   ],
   "source": [
    "# preview the dataset\n",
    "df.tail()"
   ]
  },
  {
   "cell_type": "code",
   "execution_count": 10,
   "id": "a899a047",
   "metadata": {},
   "outputs": [
    {
     "name": "stdout",
     "output_type": "stream",
     "text": [
      "<class 'pandas.core.frame.DataFrame'>\n",
      "RangeIndex: 143887 entries, 0 to 143886\n",
      "Columns: 128 entries, economy to year\n",
      "dtypes: float64(90), int64(35), object(3)\n",
      "memory usage: 140.5+ MB\n"
     ]
    }
   ],
   "source": [
    "df.info()"
   ]
  },
  {
   "cell_type": "code",
   "execution_count": 11,
   "id": "46127b5b",
   "metadata": {},
   "outputs": [
    {
     "name": "stdout",
     "output_type": "stream",
     "text": [
      "There are 3 categorical variables\n",
      "\n",
      "The categorical variables are :\n",
      "\n",
      " ['economy', 'economycode', 'regionwb']\n"
     ]
    }
   ],
   "source": [
    "# Find categorical variables\n",
    "categorical = [var for var in df.columns if df[var].dtype=='O']\n",
    "print('There are {} categorical variables\\n'.format(len(categorical)))\n",
    "print('The categorical variables are :\\n\\n', categorical)"
   ]
  },
  {
   "cell_type": "markdown",
   "id": "9381985a",
   "metadata": {},
   "source": [
    "The responses availabale differs from region to region, the highest series available for China, the lowest for Iceland."
   ]
  },
  {
   "cell_type": "code",
   "execution_count": 12,
   "id": "ec9771da",
   "metadata": {},
   "outputs": [
    {
     "name": "stdout",
     "output_type": "stream",
     "text": [
      "economy\n",
      "China                 3500\n",
      "India                 3000\n",
      "Russian Federation    2011\n",
      "Indonesia             1062\n",
      "Lesotho               1025\n",
      "                      ... \n",
      "Guatemala             1000\n",
      "Ghana                 1000\n",
      "Zimbabwe              1000\n",
      "Jamaica                502\n",
      "Iceland                502\n",
      "Name: count, Length: 139, dtype: int64\n",
      "economycode\n",
      "CHN    3500\n",
      "IND    3000\n",
      "RUS    2011\n",
      "IDN    1062\n",
      "LSO    1025\n",
      "       ... \n",
      "GTM    1000\n",
      "GHA    1000\n",
      "ZWE    1000\n",
      "JAM     502\n",
      "ISL     502\n",
      "Name: count, Length: 139, dtype: int64\n",
      "regionwb\n",
      "High income                                           40635\n",
      "Sub-Saharan Africa (excluding high income)            36062\n",
      "Europe & Central Asia (excluding high income)         19030\n",
      "Latin America & Caribbean (excluding high income)     16519\n",
      "East Asia & Pacific (excluding high income)           12579\n",
      "Middle East & North Africa (excluding high income)    10053\n",
      "South Asia                                             8009\n",
      "Name: count, dtype: int64\n"
     ]
    }
   ],
   "source": [
    "# View frequency counts of values in categorical variables\n",
    "for var in categorical:\n",
    "    print(df[var].value_counts()) "
   ]
  },
  {
   "cell_type": "code",
   "execution_count": 29,
   "id": "eda42f25",
   "metadata": {},
   "outputs": [],
   "source": [
    "# View frequency counts of values in categorical variables\n",
    "def extract_data_for_country(country):\n",
    "    return df[df['economy']==country]\n",
    "colombia_df=extract_data_for_country('Colombia')\n",
    "china_df=extract_data_for_country('China')\n",
    "uzbekistan_df=extract_data_for_country('Uzbekistan')\n",
    "kazakhstan_df=extract_data_for_country('Kazakhstan')\n"
   ]
  },
  {
   "cell_type": "markdown",
   "id": "b3475f50",
   "metadata": {},
   "source": [
    "Colombia"
   ]
  },
  {
   "cell_type": "code",
   "execution_count": 38,
   "id": "6283a5e3",
   "metadata": {},
   "outputs": [
    {
     "data": {
      "text/plain": [
       "(1000, 128)"
      ]
     },
     "execution_count": 38,
     "metadata": {},
     "output_type": "execute_result"
    }
   ],
   "source": [
    "colombia_df.shape"
   ]
  },
  {
   "cell_type": "code",
   "execution_count": 31,
   "id": "5abd7c78",
   "metadata": {},
   "outputs": [
    {
     "name": "stdout",
     "output_type": "stream",
     "text": [
      "There are 3 categorical variables\n",
      "\n",
      "The categorical variables are :\n",
      "\n",
      " ['economy', 'economycode', 'regionwb']\n"
     ]
    }
   ],
   "source": [
    "# Find categorical variables\n",
    "categorical = [var for var in colombia_df.columns if colombia_df[var].dtype=='O']\n",
    "print('There are {} categorical variables\\n'.format(len(categorical)))\n",
    "print('The categorical variables are :\\n\\n', categorical)"
   ]
  },
  {
   "cell_type": "markdown",
   "id": "894ee12c",
   "metadata": {},
   "source": [
    "Columns that can be removed since they contain repetitive information, wpid is identificator provided by Gallup"
   ]
  },
  {
   "cell_type": "code",
   "execution_count": 46,
   "id": "dcbb9953",
   "metadata": {},
   "outputs": [
    {
     "name": "stdout",
     "output_type": "stream",
     "text": [
      "economy\n",
      "Colombia    0.00695\n",
      "Name: count, dtype: float64\n",
      "economycode\n",
      "COL    0.00695\n",
      "Name: count, dtype: float64\n",
      "regionwb\n",
      "Latin America & Caribbean (excluding high income)    0.00695\n",
      "Name: count, dtype: float64\n"
     ]
    }
   ],
   "source": [
    "# view frequency distribution of categorical variables\n",
    "for var in categorical:\n",
    "    print(colombia_df[var].value_counts()/float(len(df)))"
   ]
  },
  {
   "cell_type": "code",
   "execution_count": 47,
   "id": "ddb4d79f",
   "metadata": {},
   "outputs": [
    {
     "name": "stdout",
     "output_type": "stream",
     "text": [
      "[39595244.]\n"
     ]
    }
   ],
   "source": [
    "print(colombia_df['pop_adult'].unique())"
   ]
  },
  {
   "cell_type": "code",
   "execution_count": 48,
   "id": "f265ac59",
   "metadata": {},
   "outputs": [],
   "source": [
    "def drop_columns(df):\n",
    "    return df.drop(columns=['economycode','regionwb','pop_adult','wpid_random'])\n",
    "colombia_df_cleaned=drop_columns(colombia_df)\n",
    "    "
   ]
  },
  {
   "cell_type": "code",
   "execution_count": 49,
   "id": "58f1984b",
   "metadata": {},
   "outputs": [
    {
     "data": {
      "text/plain": [
       "(1000, 124)"
      ]
     },
     "execution_count": 49,
     "metadata": {},
     "output_type": "execute_result"
    }
   ],
   "source": [
    "colombia_df_cleaned.shape"
   ]
  },
  {
   "cell_type": "code",
   "execution_count": 50,
   "id": "d314f29d",
   "metadata": {},
   "outputs": [
    {
     "data": {
      "text/plain": [
       "economy            0\n",
       "wgt                0\n",
       "female             0\n",
       "age                0\n",
       "educ               0\n",
       "                  ..\n",
       "mobileowner        0\n",
       "internetaccess     0\n",
       "anydigpayment      0\n",
       "merchantpay_dig    0\n",
       "year               0\n",
       "Length: 124, dtype: int64"
      ]
     },
     "execution_count": 50,
     "metadata": {},
     "output_type": "execute_result"
    }
   ],
   "source": [
    "colombia_df_cleaned.isnull().sum()"
   ]
  },
  {
   "cell_type": "code",
   "execution_count": null,
   "id": "9a290e98",
   "metadata": {},
   "outputs": [],
   "source": []
  }
 ],
 "metadata": {
  "kernelspec": {
   "display_name": "Python 3 (ipykernel)",
   "language": "python",
   "name": "python3"
  },
  "language_info": {
   "codemirror_mode": {
    "name": "ipython",
    "version": 3
   },
   "file_extension": ".py",
   "mimetype": "text/x-python",
   "name": "python",
   "nbconvert_exporter": "python",
   "pygments_lexer": "ipython3",
   "version": "3.11.5"
  }
 },
 "nbformat": 4,
 "nbformat_minor": 5
}
